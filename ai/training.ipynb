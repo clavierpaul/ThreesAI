{
 "cells": [
  {
   "cell_type": "code",
   "execution_count": 1,
   "metadata": {},
   "outputs": [],
   "source": [
    "import numpy as np\n",
    "import reverb\n",
    "\n",
    "import tensorflow as tf\n",
    "\n",
    "from tf_agents.agents.dqn import dqn_agent\n",
    "from tf_agents.drivers import py_driver\n",
    "from tf_agents.environments import py_environment\n",
    "from tf_agents.environments import tf_environment\n",
    "from tf_agents.environments import tf_py_environment\n",
    "from tf_agents.eval import metric_utils\n",
    "from tf_agents.metrics import tf_metrics\n",
    "from tf_agents.networks import sequential\n",
    "from tf_agents.policies import py_tf_eager_policy\n",
    "from tf_agents.policies import random_tf_policy\n",
    "from tf_agents.replay_buffers import reverb_replay_buffer\n",
    "from tf_agents.replay_buffers import reverb_utils\n",
    "from tf_agents.trajectories import trajectory\n",
    "from tf_agents.specs import tensor_spec\n",
    "from tf_agents.utils import common\n",
    "from tf_agents.environments import utils\n",
    "from tf_agents.environments import py_environment\n",
    "from threes_env import ThreesEnv"
   ]
  },
  {
   "cell_type": "code",
   "execution_count": 2,
   "metadata": {},
   "outputs": [],
   "source": [
    "num_iterations = 20000 # @param {type:\"integer\"}\n",
    "\n",
    "initial_collect_steps = 1000  # @param {type:\"integer\"}\n",
    "collect_steps_per_iteration = 10000 # @param {type:\"integer\"}\n",
    "replay_buffer_max_length = 100000  # @param {type:\"integer\"}\n",
    "\n",
    "batch_size = 1024  # @param {type:\"integer\"}\n",
    "learning_rate = 0.0005 # @param {type:\"number\"}\n",
    "log_interval = 100  # @param {type:\"integer\"}\n",
    "\n",
    "num_eval_episodes = 10  # @param {type:\"integer\"}\n",
    "eval_interval = 1000  # @param {type:\"integer\"}"
   ]
  },
  {
   "cell_type": "code",
   "execution_count": 3,
   "metadata": {},
   "outputs": [],
   "source": [
    "env = ThreesEnv()\n",
    "train_py_env = ThreesEnv()\n",
    "eval_py_env = ThreesEnv()\n",
    "train_env = tf_py_environment.TFPyEnvironment(train_py_env)\n",
    "eval_env = tf_py_environment.TFPyEnvironment(eval_py_env)"
   ]
  },
  {
   "cell_type": "code",
   "execution_count": 4,
   "metadata": {},
   "outputs": [],
   "source": [
    "fc_layer_params = (100, 50)\n",
    "action_tensor_spec = tensor_spec.from_spec(env.action_spec())\n",
    "num_actions = action_tensor_spec.maximum - action_tensor_spec.minimum + 1\n",
    "\n",
    "# Define a helper function to create Dense layers configured with the right\n",
    "# activation and kernel initializer.\n",
    "def dense_layer(num_units):\n",
    "  return tf.keras.layers.Dense(\n",
    "      num_units,\n",
    "      activation=tf.keras.activations.relu,\n",
    "      kernel_initializer=tf.keras.initializers.VarianceScaling(\n",
    "          scale=2.0, mode='fan_in', distribution='truncated_normal'))\n",
    "\n",
    "# QNetwork consists of a sequence of Dense layers followed by a dense layer\n",
    "# with `num_actions` units to generate one q_value per available action as\n",
    "# its output.\n",
    "dense_layers = [dense_layer(num_units) for num_units in fc_layer_params]\n",
    "q_values_layer = tf.keras.layers.Dense(\n",
    "    num_actions,\n",
    "    activation=None,\n",
    "    kernel_initializer=tf.keras.initializers.RandomUniform(\n",
    "        minval=-0.03, maxval=0.03),\n",
    "    bias_initializer=tf.keras.initializers.Constant(-0.2))\n",
    "q_net = sequential.Sequential(dense_layers + [q_values_layer])"
   ]
  },
  {
   "cell_type": "code",
   "execution_count": 5,
   "metadata": {},
   "outputs": [
    {
     "name": "stderr",
     "output_type": "stream",
     "text": [
      "2021-10-23 01:20:53.238405: I tensorflow/stream_executor/cuda/cuda_gpu_executor.cc:923] could not open file to read NUMA node: /sys/bus/pci/devices/0000:01:00.0/numa_node\n",
      "Your kernel may have been built without NUMA support.\n",
      "2021-10-23 01:20:53.262434: I tensorflow/stream_executor/cuda/cuda_gpu_executor.cc:923] could not open file to read NUMA node: /sys/bus/pci/devices/0000:01:00.0/numa_node\n",
      "Your kernel may have been built without NUMA support.\n",
      "2021-10-23 01:20:53.262912: I tensorflow/stream_executor/cuda/cuda_gpu_executor.cc:923] could not open file to read NUMA node: /sys/bus/pci/devices/0000:01:00.0/numa_node\n",
      "Your kernel may have been built without NUMA support.\n",
      "2021-10-23 01:20:53.263794: I tensorflow/core/platform/cpu_feature_guard.cc:142] This TensorFlow binary is optimized with oneAPI Deep Neural Network Library (oneDNN) to use the following CPU instructions in performance-critical operations:  AVX2 FMA\n",
      "To enable them in other operations, rebuild TensorFlow with the appropriate compiler flags.\n",
      "2021-10-23 01:20:53.264686: I tensorflow/stream_executor/cuda/cuda_gpu_executor.cc:923] could not open file to read NUMA node: /sys/bus/pci/devices/0000:01:00.0/numa_node\n",
      "Your kernel may have been built without NUMA support.\n",
      "2021-10-23 01:20:53.265530: I tensorflow/stream_executor/cuda/cuda_gpu_executor.cc:923] could not open file to read NUMA node: /sys/bus/pci/devices/0000:01:00.0/numa_node\n",
      "Your kernel may have been built without NUMA support.\n",
      "2021-10-23 01:20:53.266647: I tensorflow/stream_executor/cuda/cuda_gpu_executor.cc:923] could not open file to read NUMA node: /sys/bus/pci/devices/0000:01:00.0/numa_node\n",
      "Your kernel may have been built without NUMA support.\n",
      "2021-10-23 01:20:53.947444: I tensorflow/stream_executor/cuda/cuda_gpu_executor.cc:923] could not open file to read NUMA node: /sys/bus/pci/devices/0000:01:00.0/numa_node\n",
      "Your kernel may have been built without NUMA support.\n",
      "2021-10-23 01:20:53.948293: I tensorflow/stream_executor/cuda/cuda_gpu_executor.cc:923] could not open file to read NUMA node: /sys/bus/pci/devices/0000:01:00.0/numa_node\n",
      "Your kernel may have been built without NUMA support.\n",
      "2021-10-23 01:20:53.948325: I tensorflow/core/common_runtime/gpu/gpu_device.cc:1594] Could not identify NUMA node of platform GPU id 0, defaulting to 0.  Your kernel may not have been built with NUMA support.\n",
      "2021-10-23 01:20:53.950224: I tensorflow/stream_executor/cuda/cuda_gpu_executor.cc:923] could not open file to read NUMA node: /sys/bus/pci/devices/0000:01:00.0/numa_node\n",
      "Your kernel may have been built without NUMA support.\n",
      "2021-10-23 01:20:53.950323: I tensorflow/core/common_runtime/gpu/gpu_device.cc:1510] Created device /job:localhost/replica:0/task:0/device:GPU:0 with 6623 MB memory:  -> device: 0, name: NVIDIA GeForce GTX 1070, pci bus id: 0000:01:00.0, compute capability: 6.1\n"
     ]
    }
   ],
   "source": [
    "optimizer = tf.keras.optimizers.Adam(learning_rate=learning_rate)\n",
    "\n",
    "train_step_counter = tf.Variable(0)\n",
    "\n",
    "def observation_and_action_constrain_splitter(observation):\n",
    "    return observation['observation'], observation['actions']\n",
    "\n",
    "agent = dqn_agent.DqnAgent(\n",
    "    train_env.time_step_spec(),\n",
    "    train_env.action_spec(),\n",
    "    q_network=q_net,\n",
    "    optimizer=optimizer,\n",
    "    observation_and_action_constraint_splitter=observation_and_action_constrain_splitter,\n",
    "    td_errors_loss_fn=common.element_wise_squared_loss,\n",
    "    train_step_counter=train_step_counter)\n",
    "\n",
    "agent.initialize()"
   ]
  },
  {
   "cell_type": "code",
   "execution_count": 6,
   "metadata": {},
   "outputs": [],
   "source": [
    "eval_policy = agent.policy\n",
    "collect_policy = agent.collect_policy"
   ]
  },
  {
   "cell_type": "code",
   "execution_count": 7,
   "metadata": {},
   "outputs": [],
   "source": [
    "random_policy = random_tf_policy.RandomTFPolicy(train_env.time_step_spec(),\n",
    "                                                train_env.action_spec())"
   ]
  },
  {
   "cell_type": "code",
   "execution_count": 7,
   "metadata": {},
   "outputs": [],
   "source": [
    "def compute_avg_return(environment, policy, num_episodes=10):\n",
    "\n",
    "  total_return = 0.0\n",
    "  for _ in range(num_episodes):\n",
    "\n",
    "    time_step = environment.reset()\n",
    "    episode_return = 0.0\n",
    "\n",
    "    while not time_step.is_last():\n",
    "      action_step = policy.action(time_step)\n",
    "      time_step = environment.step(action_step.action)\n",
    "      episode_return += time_step.reward\n",
    "    total_return += episode_return\n",
    "\n",
    "  avg_return = total_return / num_episodes\n",
    "  return avg_return.numpy()[0]\n"
   ]
  },
  {
   "cell_type": "code",
   "execution_count": 13,
   "metadata": {},
   "outputs": [
    {
     "ename": "NameError",
     "evalue": "name 'random_policy' is not defined",
     "output_type": "error",
     "traceback": [
      "\u001b[0;31m---------------------------------------------------------------------------\u001b[0m",
      "\u001b[0;31mNameError\u001b[0m                                 Traceback (most recent call last)",
      "\u001b[0;32m/tmp/ipykernel_2960/3974840075.py\u001b[0m in \u001b[0;36m<module>\u001b[0;34m\u001b[0m\n\u001b[0;32m----> 1\u001b[0;31m \u001b[0mcompute_avg_return\u001b[0m\u001b[0;34m(\u001b[0m\u001b[0meval_env\u001b[0m\u001b[0;34m,\u001b[0m \u001b[0mrandom_policy\u001b[0m\u001b[0;34m,\u001b[0m \u001b[0;36m100\u001b[0m\u001b[0;34m)\u001b[0m\u001b[0;34m\u001b[0m\u001b[0;34m\u001b[0m\u001b[0m\n\u001b[0m",
      "\u001b[0;31mNameError\u001b[0m: name 'random_policy' is not defined"
     ]
    }
   ],
   "source": [
    "compute_avg_return(eval_env, random_policy, 100)"
   ]
  },
  {
   "cell_type": "code",
   "execution_count": 8,
   "metadata": {},
   "outputs": [
    {
     "name": "stderr",
     "output_type": "stream",
     "text": [
      "[reverb/cc/platform/tfrecord_checkpointer.cc:150]  Initializing TFRecordCheckpointer in /tmp/tmpqug6w540.\n",
      "[reverb/cc/platform/tfrecord_checkpointer.cc:385] Loading latest checkpoint from /tmp/tmpqug6w540\n",
      "[reverb/cc/platform/default/server.cc:71] Started replay server on port 23424\n"
     ]
    }
   ],
   "source": [
    "table_name = 'uniform_table'\n",
    "replay_buffer_signature = tensor_spec.from_spec(\n",
    "      agent.collect_data_spec)\n",
    "replay_buffer_signature = tensor_spec.add_outer_dim(\n",
    "    replay_buffer_signature)\n",
    "\n",
    "table = reverb.Table(\n",
    "    table_name,\n",
    "    max_size=replay_buffer_max_length,\n",
    "    sampler=reverb.selectors.Uniform(),\n",
    "    remover=reverb.selectors.Fifo(),\n",
    "    rate_limiter=reverb.rate_limiters.MinSize(1),\n",
    "    signature=replay_buffer_signature)\n",
    "\n",
    "reverb_server = reverb.Server([table])\n",
    "\n",
    "replay_buffer = reverb_replay_buffer.ReverbReplayBuffer(\n",
    "    agent.collect_data_spec,\n",
    "    table_name=table_name,\n",
    "    sequence_length=2,\n",
    "    local_server=reverb_server)\n",
    "\n",
    "rb_observer = reverb_utils.ReverbAddTrajectoryObserver(\n",
    "  replay_buffer.py_client,\n",
    "  table_name,\n",
    "  sequence_length=2)"
   ]
  },
  {
   "cell_type": "code",
   "execution_count": 9,
   "metadata": {},
   "outputs": [
    {
     "ename": "NameError",
     "evalue": "name 'random_policy' is not defined",
     "output_type": "error",
     "traceback": [
      "\u001b[0;31m---------------------------------------------------------------------------\u001b[0m",
      "\u001b[0;31mNameError\u001b[0m                                 Traceback (most recent call last)",
      "\u001b[0;32m/tmp/ipykernel_2960/847553697.py\u001b[0m in \u001b[0;36m<module>\u001b[0;34m\u001b[0m\n\u001b[1;32m      2\u001b[0m     \u001b[0menv\u001b[0m\u001b[0;34m,\u001b[0m\u001b[0;34m\u001b[0m\u001b[0;34m\u001b[0m\u001b[0m\n\u001b[1;32m      3\u001b[0m     py_tf_eager_policy.PyTFEagerPolicy(\n\u001b[0;32m----> 4\u001b[0;31m       random_policy, use_tf_function=True),\n\u001b[0m\u001b[1;32m      5\u001b[0m     \u001b[0;34m[\u001b[0m\u001b[0mrb_observer\u001b[0m\u001b[0;34m]\u001b[0m\u001b[0;34m,\u001b[0m\u001b[0;34m\u001b[0m\u001b[0;34m\u001b[0m\u001b[0m\n\u001b[1;32m      6\u001b[0m     max_steps=initial_collect_steps).run(train_py_env.reset())\n",
      "\u001b[0;31mNameError\u001b[0m: name 'random_policy' is not defined"
     ]
    }
   ],
   "source": [
    "py_driver.PyDriver(\n",
    "    env,\n",
    "    py_tf_eager_policy.PyTFEagerPolicy(\n",
    "      random_policy, use_tf_function=True),\n",
    "    [rb_observer],\n",
    "    max_steps=initial_collect_steps).run(train_py_env.reset())"
   ]
  },
  {
   "cell_type": "code",
   "execution_count": 9,
   "metadata": {},
   "outputs": [
    {
     "data": {
      "text/plain": [
       "<PrefetchDataset shapes: (Trajectory(\n",
       "{action: (512, 2),\n",
       " discount: (512, 2),\n",
       " next_step_type: (512, 2),\n",
       " observation: {actions: (512, 2, 4),\n",
       "                 observation: (512, 2, 17)},\n",
       " policy_info: (),\n",
       " reward: (512, 2),\n",
       " step_type: (512, 2)}), SampleInfo(key=(512, 2), probability=(512, 2), table_size=(512, 2), priority=(512, 2))), types: (Trajectory(\n",
       "{action: tf.int32,\n",
       " discount: tf.float32,\n",
       " next_step_type: tf.int32,\n",
       " observation: DictWrapper({observation: tf.int32, actions: tf.int32}),\n",
       " policy_info: (),\n",
       " reward: tf.float32,\n",
       " step_type: tf.int32}), SampleInfo(key=tf.uint64, probability=tf.float64, table_size=tf.int64, priority=tf.float64))>"
      ]
     },
     "execution_count": 9,
     "metadata": {},
     "output_type": "execute_result"
    }
   ],
   "source": [
    "dataset = replay_buffer.as_dataset(\n",
    "    num_parallel_calls=3,\n",
    "    sample_batch_size=batch_size,\n",
    "    num_steps=2).prefetch(3)\n",
    "\n",
    "dataset"
   ]
  },
  {
   "cell_type": "code",
   "execution_count": 10,
   "metadata": {},
   "outputs": [
    {
     "name": "stdout",
     "output_type": "stream",
     "text": [
      "<tensorflow.python.data.ops.iterator_ops.OwnedIterator object at 0x7f568c4e8ac0>\n"
     ]
    },
    {
     "name": "stderr",
     "output_type": "stream",
     "text": [
      "2021-10-23 01:21:01.798062: I tensorflow/compiler/mlir/mlir_graph_optimization_pass.cc:185] None of the MLIR Optimization Passes are enabled (registered 2)\n"
     ]
    }
   ],
   "source": [
    "iterator = iter(dataset)\n",
    "print(iterator)"
   ]
  },
  {
   "cell_type": "code",
   "execution_count": 11,
   "metadata": {},
   "outputs": [],
   "source": [
    "# Reset the train step.\n",
    "agent.train_step_counter.assign(0)\n",
    "\n",
    "# Evaluate the agent's policy once before training.\n",
    "avg_return = compute_avg_return(eval_env, agent.policy, num_eval_episodes)\n",
    "returns = [avg_return]\n",
    "\n",
    "# Reset the environment.\n",
    "time_step = train_py_env.reset()\n",
    "\n",
    "# Create a driver to collect experience.\n",
    "collect_driver = py_driver.PyDriver(\n",
    "    env,\n",
    "    py_tf_eager_policy.PyTFEagerPolicy(\n",
    "      agent.collect_policy, use_tf_function=True),\n",
    "    [rb_observer],\n",
    "    max_steps=collect_steps_per_iteration)"
   ]
  },
  {
   "cell_type": "code",
   "execution_count": 12,
   "metadata": {},
   "outputs": [
    {
     "name": "stderr",
     "output_type": "stream",
     "text": [
      "WARNING:root:\n",
      "Distribution subclass MaskedCategorical inherits `_parameter_properties from its parent (Categorical)\n",
      "while also redefining `__init__`. The inherited annotations cover the following\n",
      "parameters: dict_keys(['logits', 'probs']). It is likely that these do not match the subclass parameters.\n",
      "This may lead to errors when computing batch shapes, slicing into batch\n",
      "dimensions, calling `.copy()`, flattening the distribution as a CompositeTensor\n",
      "(e.g., when it is passed or returned from a `tf.function`), and possibly other\n",
      "cases. The recommended pattern for distribution subclasses is to define a new\n",
      "`_parameter_properties` method with the subclass parameters, and to store the\n",
      "corresponding parameter values as `self._parameters` in `__init__`, after\n",
      "calling the superclass constructor:\n",
      "\n",
      "```\n",
      "class MySubclass(tfd.SomeDistribution):\n",
      "\n",
      "  def __init__(self, param_a, param_b):\n",
      "    parameters = dict(locals())\n",
      "    # ... do subclass initialization ...\n",
      "    super(MySubclass, self).__init__(**base_class_params)\n",
      "    # Ensure that the subclass (not base class) parameters are stored.\n",
      "    self._parameters = parameters\n",
      "\n",
      "  def _parameter_properties(self, dtype, num_classes=None):\n",
      "    return dict(\n",
      "      # Annotations may optionally specify properties, such as `event_ndims`,\n",
      "      # `default_constraining_bijector_fn`, `specifies_shape`, etc.; see\n",
      "      # the `ParameterProperties` documentation for details.\n",
      "      param_a=tfp.util.ParameterProperties(),\n",
      "      param_b=tfp.util.ParameterProperties())\n",
      "```\n",
      "\n",
      "WARNING:root:\n",
      "Distribution subclass MaskedCategorical inherits `_parameter_properties from its parent (Categorical)\n",
      "while also redefining `__init__`. The inherited annotations cover the following\n",
      "parameters: dict_keys(['logits', 'probs']). It is likely that these do not match the subclass parameters.\n",
      "This may lead to errors when computing batch shapes, slicing into batch\n",
      "dimensions, calling `.copy()`, flattening the distribution as a CompositeTensor\n",
      "(e.g., when it is passed or returned from a `tf.function`), and possibly other\n",
      "cases. The recommended pattern for distribution subclasses is to define a new\n",
      "`_parameter_properties` method with the subclass parameters, and to store the\n",
      "corresponding parameter values as `self._parameters` in `__init__`, after\n",
      "calling the superclass constructor:\n",
      "\n",
      "```\n",
      "class MySubclass(tfd.SomeDistribution):\n",
      "\n",
      "  def __init__(self, param_a, param_b):\n",
      "    parameters = dict(locals())\n",
      "    # ... do subclass initialization ...\n",
      "    super(MySubclass, self).__init__(**base_class_params)\n",
      "    # Ensure that the subclass (not base class) parameters are stored.\n",
      "    self._parameters = parameters\n",
      "\n",
      "  def _parameter_properties(self, dtype, num_classes=None):\n",
      "    return dict(\n",
      "      # Annotations may optionally specify properties, such as `event_ndims`,\n",
      "      # `default_constraining_bijector_fn`, `specifies_shape`, etc.; see\n",
      "      # the `ParameterProperties` documentation for details.\n",
      "      param_a=tfp.util.ParameterProperties(),\n",
      "      param_b=tfp.util.ParameterProperties())\n",
      "```\n",
      "\n"
     ]
    },
    {
     "name": "stdout",
     "output_type": "stream",
     "text": [
      "WARNING:tensorflow:From /home/fluxe/.local/lib/python3.9/site-packages/tensorflow/python/util/dispatch.py:206: calling foldr_v2 (from tensorflow.python.ops.functional_ops) with back_prop=False is deprecated and will be removed in a future version.\n",
      "Instructions for updating:\n",
      "back_prop=False is deprecated. Consider using tf.stop_gradient instead.\n",
      "Instead of:\n",
      "results = tf.foldr(fn, elems, back_prop=False)\n",
      "Use:\n",
      "results = tf.nest.map_structure(tf.stop_gradient, tf.foldr(fn, elems))\n"
     ]
    },
    {
     "name": "stderr",
     "output_type": "stream",
     "text": [
      "[reverb/cc/client.cc:163] Sampler and server are owned by the same process (3446) so Table uniform_table is accessed directly without gRPC.\n",
      "[reverb/cc/client.cc:163] Sampler and server are owned by the same process (3446) so Table uniform_table is accessed directly without gRPC.\n",
      "[reverb/cc/client.cc:163] Sampler and server are owned by the same process (3446) so Table uniform_table is accessed directly without gRPC.\n",
      "[reverb/cc/client.cc:163] Sampler and server are owned by the same process (3446) so Table uniform_table is accessed directly without gRPC.\n",
      "[reverb/cc/client.cc:163] Sampler and server are owned by the same process (3446) so Table uniform_table is accessed directly without gRPC.\n",
      "[reverb/cc/client.cc:163] Sampler and server are owned by the same process (3446) so Table uniform_table is accessed directly without gRPC.\n",
      "WARNING:tensorflow:From /home/fluxe/.local/lib/python3.9/site-packages/tensorflow/python/util/dispatch.py:206: calling foldr_v2 (from tensorflow.python.ops.functional_ops) with back_prop=False is deprecated and will be removed in a future version.\n",
      "Instructions for updating:\n",
      "back_prop=False is deprecated. Consider using tf.stop_gradient instead.\n",
      "Instead of:\n",
      "results = tf.foldr(fn, elems, back_prop=False)\n",
      "Use:\n",
      "results = tf.nest.map_structure(tf.stop_gradient, tf.foldr(fn, elems))\n"
     ]
    },
    {
     "name": "stdout",
     "output_type": "stream",
     "text": [
      "step = 100: loss = 165764944.0\n",
      "step = 200: loss = 38470451200.0\n",
      "step = 300: loss = 117489696768.0\n",
      "step = 400: loss = 484127932416.0\n",
      "step = 500: loss = 3542549004288.0\n",
      "step = 600: loss = 12529392680960.0\n",
      "step = 700: loss = 14292236632064.0\n",
      "step = 800: loss = 13624241291264.0\n",
      "step = 900: loss = 4261853265920.0\n",
      "step = 1000: loss = 3349730820096.0\n",
      "step = 1000: Average Return = 1464.0999755859375\n",
      "step = 1100: loss = 3563423793152.0\n",
      "step = 1200: loss = 2815974703104.0\n",
      "step = 1300: loss = 1941859991552.0\n",
      "step = 1400: loss = 1787122941952.0\n",
      "step = 1500: loss = 1456563290112.0\n",
      "step = 1600: loss = 883158286336.0\n",
      "step = 1700: loss = 150469443584.0\n",
      "step = 1800: loss = 676570923008.0\n",
      "step = 1900: loss = 449598521344.0\n",
      "step = 2000: loss = 559285207040.0\n",
      "step = 2000: Average Return = 460.3999938964844\n",
      "step = 2100: loss = 167426801664.0\n",
      "step = 2200: loss = 234987913216.0\n",
      "step = 2300: loss = 193161314304.0\n",
      "step = 2400: loss = 175382511616.0\n",
      "step = 2500: loss = 127877742592.0\n",
      "step = 2600: loss = 244222623744.0\n",
      "step = 2700: loss = 176523902976.0\n",
      "step = 2800: loss = 51206635520.0\n",
      "step = 2900: loss = 112022831104.0\n",
      "step = 3000: loss = 67610128384.0\n",
      "step = 3000: Average Return = 1379.0\n",
      "step = 3100: loss = 46148390912.0\n",
      "step = 3200: loss = 34805997568.0\n",
      "step = 3300: loss = 57155960832.0\n",
      "step = 3400: loss = 43500277760.0\n",
      "step = 3500: loss = 15709373440.0\n",
      "step = 3600: loss = 30729340928.0\n",
      "step = 3700: loss = 26620579840.0\n",
      "step = 3800: loss = 19573995520.0\n",
      "step = 3900: loss = 24308944896.0\n",
      "step = 4000: loss = 16265674752.0\n",
      "step = 4000: Average Return = 1574.300048828125\n",
      "step = 4100: loss = 43954610176.0\n",
      "step = 4200: loss = 37549817856.0\n",
      "step = 4300: loss = 37459030016.0\n",
      "step = 4400: loss = 37623742464.0\n",
      "step = 4500: loss = 41011523584.0\n",
      "step = 4600: loss = 78214135808.0\n",
      "step = 4700: loss = 139888001024.0\n",
      "step = 4800: loss = 80935927808.0\n",
      "step = 4900: loss = 69081751552.0\n",
      "step = 5000: loss = 20651708416.0\n",
      "step = 5000: Average Return = 1212.5\n",
      "step = 5100: loss = 54459170816.0\n",
      "step = 5200: loss = 44861898752.0\n",
      "step = 5300: loss = 33752776704.0\n",
      "step = 5400: loss = 59358441472.0\n",
      "step = 5500: loss = 37037969408.0\n",
      "step = 5600: loss = 46302343168.0\n",
      "step = 5700: loss = 75949957120.0\n",
      "step = 5800: loss = 32357672960.0\n",
      "step = 5900: loss = 38212608000.0\n",
      "step = 6000: loss = 59952308224.0\n",
      "step = 6000: Average Return = 1332.699951171875\n",
      "step = 6100: loss = 26307954688.0\n",
      "step = 6200: loss = 70464946176.0\n",
      "step = 6300: loss = 42916749312.0\n",
      "step = 6400: loss = 19524706304.0\n",
      "step = 6500: loss = 38454194176.0\n",
      "step = 6600: loss = 38769467392.0\n",
      "step = 6700: loss = 15752454144.0\n",
      "step = 6800: loss = 50948005888.0\n",
      "step = 6900: loss = 22521794560.0\n",
      "step = 7000: loss = 38415060992.0\n",
      "step = 7000: Average Return = 1530.800048828125\n",
      "step = 7100: loss = 60996984832.0\n",
      "step = 7200: loss = 14573289472.0\n",
      "step = 7300: loss = 17861613568.0\n",
      "step = 7400: loss = 54116712448.0\n",
      "step = 7500: loss = 11410679808.0\n",
      "step = 7600: loss = 60037521408.0\n",
      "step = 7700: loss = 55620374528.0\n",
      "step = 7800: loss = 118299213824.0\n",
      "step = 7900: loss = 62521769984.0\n",
      "step = 8000: loss = 226796847104.0\n",
      "step = 8000: Average Return = 1650.0\n",
      "step = 8100: loss = 115888578560.0\n",
      "step = 8200: loss = 28611477504.0\n",
      "step = 8300: loss = 188340944896.0\n",
      "step = 8400: loss = 104968732672.0\n",
      "step = 8500: loss = 208289939456.0\n",
      "step = 8600: loss = 57907970048.0\n",
      "step = 8700: loss = 61644439552.0\n",
      "step = 8800: loss = 46295117824.0\n",
      "step = 8900: loss = 15985128448.0\n",
      "step = 9000: loss = 42730409984.0\n",
      "step = 9000: Average Return = 1516.0\n",
      "step = 9100: loss = 24939180032.0\n",
      "step = 9200: loss = 35656699904.0\n",
      "step = 9300: loss = 31022362624.0\n",
      "step = 9400: loss = 56320540672.0\n",
      "step = 9500: loss = 35657203712.0\n",
      "step = 9600: loss = 52475498496.0\n",
      "step = 9700: loss = 89973669888.0\n",
      "step = 9800: loss = 29087543296.0\n",
      "step = 9900: loss = 37271343104.0\n",
      "step = 10000: loss = 23586926592.0\n",
      "step = 10000: Average Return = 1094.300048828125\n",
      "step = 10100: loss = 29770450944.0\n",
      "step = 10200: loss = 40982806528.0\n",
      "step = 10300: loss = 49222148096.0\n",
      "step = 10400: loss = 72949948416.0\n",
      "step = 10500: loss = 83174645760.0\n",
      "step = 10600: loss = 100992925696.0\n",
      "step = 10700: loss = 102783164416.0\n",
      "step = 10800: loss = 83300057088.0\n",
      "step = 10900: loss = 60416217088.0\n",
      "step = 11000: loss = 30830452736.0\n",
      "step = 11000: Average Return = 2578.699951171875\n",
      "step = 11100: loss = 24263036928.0\n",
      "step = 11200: loss = 61209645056.0\n",
      "step = 11300: loss = 12906215424.0\n",
      "step = 11400: loss = 6461498880.0\n",
      "step = 11500: loss = 9898295296.0\n",
      "step = 11600: loss = 4660066304.0\n",
      "step = 11700: loss = 2945979904.0\n",
      "step = 11800: loss = 2093977984.0\n",
      "step = 11900: loss = 1243127552.0\n",
      "step = 12000: loss = 973864960.0\n",
      "step = 12000: Average Return = 991.7999877929688\n",
      "step = 12100: loss = 712894784.0\n",
      "step = 12200: loss = 557879232.0\n",
      "step = 12300: loss = 390137760.0\n",
      "step = 12400: loss = 375776704.0\n",
      "step = 12500: loss = 236285216.0\n",
      "step = 12600: loss = 209057264.0\n",
      "step = 12700: loss = 175041328.0\n",
      "step = 12800: loss = 108852896.0\n",
      "step = 12900: loss = 139436528.0\n",
      "step = 13000: loss = 127101216.0\n",
      "step = 13000: Average Return = 1726.5999755859375\n",
      "step = 13100: loss = 67526600.0\n",
      "step = 13200: loss = 70016736.0\n",
      "step = 13300: loss = 54451680.0\n",
      "step = 13400: loss = 34060376.0\n",
      "step = 13500: loss = 23520964.0\n",
      "step = 13600: loss = 33319114.0\n",
      "step = 13700: loss = 35632488.0\n",
      "step = 13800: loss = 17806508.0\n",
      "step = 13900: loss = 11999479.0\n",
      "step = 14000: loss = 15627920.0\n",
      "step = 14000: Average Return = 2143.10009765625\n",
      "step = 14100: loss = 11780542.0\n",
      "step = 14200: loss = 4917957.0\n",
      "step = 14300: loss = 6063239.5\n",
      "step = 14400: loss = 1940718.0\n",
      "step = 14500: loss = 3064983.0\n",
      "step = 14600: loss = 4374407.0\n",
      "step = 14700: loss = 2011530.5\n",
      "step = 14800: loss = 2683903.25\n",
      "step = 14900: loss = 1319948.625\n",
      "step = 15000: loss = 1136229.0\n",
      "step = 15000: Average Return = 1815.199951171875\n",
      "step = 15100: loss = 2318375.0\n",
      "step = 15200: loss = 1722178.25\n",
      "step = 15300: loss = 1053424.0\n",
      "step = 15400: loss = 1370811.25\n",
      "step = 15500: loss = 884857.1875\n",
      "step = 15600: loss = 504850.21875\n",
      "step = 15700: loss = 150142.78125\n",
      "step = 15800: loss = 171413.75\n",
      "step = 15900: loss = 1042318.0625\n",
      "step = 16000: loss = 355306.375\n",
      "step = 16000: Average Return = 1070.5\n",
      "step = 16100: loss = 191265.140625\n",
      "step = 16200: loss = 120448.3671875\n",
      "step = 16300: loss = 90212.0703125\n",
      "step = 16400: loss = 30366.373046875\n",
      "step = 16500: loss = 83951.0703125\n",
      "step = 16600: loss = 54962.06640625\n",
      "step = 16700: loss = 19451.869140625\n",
      "step = 16800: loss = 770792.4375\n",
      "step = 16900: loss = 116056.6796875\n",
      "step = 17000: loss = 52572.6953125\n",
      "step = 17000: Average Return = 1125.5\n",
      "step = 17100: loss = 16500.53125\n",
      "step = 17200: loss = 68375.890625\n",
      "step = 17300: loss = 317906.40625\n",
      "step = 17400: loss = 46906.296875\n",
      "step = 17500: loss = 15861.765625\n",
      "step = 17600: loss = 33293.0234375\n",
      "step = 17700: loss = 25777.193359375\n",
      "step = 17800: loss = 31718.3046875\n",
      "step = 17900: loss = 15283.8857421875\n",
      "step = 18000: loss = 44774.26953125\n",
      "step = 18000: Average Return = 1362.699951171875\n",
      "step = 18100: loss = 15292.6171875\n",
      "step = 18200: loss = 5196.95751953125\n",
      "step = 18300: loss = 37911.35546875\n",
      "step = 18400: loss = 46249.87890625\n",
      "step = 18500: loss = 60106.5\n",
      "step = 18600: loss = 10727.943359375\n",
      "step = 18700: loss = 457307.65625\n",
      "step = 18800: loss = 31189.802734375\n",
      "step = 18900: loss = 75386.1484375\n",
      "step = 19000: loss = 60419.80078125\n",
      "step = 19000: Average Return = 1503.800048828125\n",
      "step = 19100: loss = 10685.822265625\n",
      "step = 19200: loss = 24188.2578125\n",
      "step = 19300: loss = 15034.8564453125\n",
      "step = 19400: loss = 44885.2265625\n",
      "step = 19500: loss = 6806.99169921875\n",
      "step = 19600: loss = 21144.9765625\n",
      "step = 19700: loss = 40945.00390625\n",
      "step = 19800: loss = 44988.703125\n",
      "step = 19900: loss = 38220.64453125\n",
      "step = 20000: loss = 28749.13671875\n",
      "step = 20000: Average Return = 871.5\n"
     ]
    }
   ],
   "source": [
    "for _ in range(num_iterations):\n",
    "\n",
    "  # Collect a few steps and save to the replay buffer.\n",
    "  time_step, _ = collect_driver.run(time_step)\n",
    "\n",
    "  # Sample a batch of data from the buffer and update the agent's network.\n",
    "  experience, unused_info = next(iterator)\n",
    "  train_loss = agent.train(experience).loss\n",
    "\n",
    "  step = agent.train_step_counter.numpy()\n",
    "\n",
    "  if step % log_interval == 0:\n",
    "    print('step = {0}: loss = {1}'.format(step, train_loss))\n",
    "\n",
    "  if step % eval_interval == 0:\n",
    "    avg_return = compute_avg_return(eval_env, agent.policy, num_eval_episodes)\n",
    "    print('step = {0}: Average Return = {1}'.format(step, avg_return))\n",
    "    returns.append(avg_return)"
   ]
  },
  {
   "cell_type": "code",
   "execution_count": 13,
   "metadata": {},
   "outputs": [],
   "source": [
    "\n",
    "import matplotlib\n",
    "import matplotlib.pyplot as plt"
   ]
  },
  {
   "cell_type": "code",
   "execution_count": 14,
   "metadata": {},
   "outputs": [
    {
     "data": {
      "text/plain": [
       "Text(0.5, 0, 'Iterations')"
      ]
     },
     "execution_count": 14,
     "metadata": {},
     "output_type": "execute_result"
    },
    {
     "data": {
      "image/png": "[encoded data removed]",
      "text/plain": [
       "<Figure size 432x288 with 1 Axes>"
      ]
     },
     "metadata": {
      "needs_background": "light"
     },
     "output_type": "display_data"
    }
   ],
   "source": [
    "iterations = range(0, num_iterations + 1, eval_interval)\n",
    "plt.plot(iterations, returns)\n",
    "plt.ylabel('Average Return')\n",
    "plt.xlabel('Iterations')"
   ]
  },
  {
   "cell_type": "code",
   "execution_count": 18,
   "metadata": {},
   "outputs": [
    {
     "data": {
      "text/plain": [
       "[1394.8,\n",
       " 1097.8,\n",
       " 2943.4,\n",
       " 1134.0,\n",
       " 1099.0,\n",
       " 2565.8,\n",
       " 1537.1,\n",
       " 3302.6,\n",
       " 3063.9,\n",
       " 962.3,\n",
       " 2169.8,\n",
       " 1310.1,\n",
       " 792.0,\n",
       " 1077.2,\n",
       " 724.9,\n",
       " 2386.5,\n",
       " 1208.1,\n",
       " 662.8,\n",
       " 2448.5,\n",
       " 1957.6,\n",
       " 1383.8]"
      ]
     },
     "execution_count": 18,
     "metadata": {},
     "output_type": "execute_result"
    }
   ],
   "source": [
    "returns"
   ]
  },
  {
   "cell_type": "code",
   "execution_count": null,
   "metadata": {},
   "outputs": [],
   "source": []
  }
 ],
 "metadata": {
  "interpreter": {
   "hash": "f9f85f796d01129d0dd105a088854619f454435301f6ffec2fea96ecbd9be4ac"
  },
  "kernelspec": {
   "display_name": "Python 3.9.7 64-bit",
   "name": "python3"
  },
  "language_info": {
   "codemirror_mode": {
    "name": "ipython",
    "version": 3
   },
   "file_extension": ".py",
   "mimetype": "text/x-python",
   "name": "python",
   "nbconvert_exporter": "python",
   "pygments_lexer": "ipython3",
   "version": "3.9.7"
  },
  "orig_nbformat": 4
 },
 "nbformat": 4,
 "nbformat_minor": 2
}
